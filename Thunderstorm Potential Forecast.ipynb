{
    "nbformat_minor": 1, 
    "cells": [
        {
            "source": "######JM Gawrych  11/30/2018 rev 3/11/2019\n######B Snyder 6/26/2019 Added to IBM Watson Studio added ability to import arcgis Pythin libraries\n######B SNyder 7/30/2019 No longer needed as of Pythin 3.6.  !pip install arcgis   #You must use this command the first time the notebook is run to load the arcgis module.  By using the '!' it works the same as using a command window but inside of Watson Studio.\n\n#### Gets multipleThunderstorm Potential forecasts from severity 1 to 5.  Generates a geojson file from our featurizer with these 5 layers\n#Use this link to see the results on ARCGIS Online: https://arcg.is/1zWbCW\n\nimport requests,json,datetime # need to install these libraries to run\n#ESRI modules\nfrom arcgis.gis import GIS\nfrom arcgis import features\nfrom arcgis.features import FeatureLayerCollection\n\n##All TWC visual products have a product name and number\nprod_num=str(44) # Radar Derived 24-Hour HailVision. \nprod_name='VAR0191209FROM25501surface12MinuteMaximum' # Per \nAPIKEY='YOUR_TWC_KEY_HERE'  #This is IBM internal  key \n\n\n########################PRODUCT INVENTORY CALL################################  \ndef InvCall():\n    base1 = 'https://api.weather.com/v2/tiler/info?products='+prod_num+':'+prod_name\n    base2 = '&apiKey='+APIKEY\n    url = base1 + base2 \n    APIcall = requests.get(url) #Our API Call     to grab the latest forecast\n    if APIcall.status_code == 200:  #if(APIcall.ok):\n        data = APIcall.json()  # Just get most current run and next forecast\n        t = data[\"layers\"][prod_num][prod_name][\"dimensions\"][0][\"t\"][31]\n        rt = data[\"layers\"][prod_num][prod_name][\"dimensions\"][0][\"rt\"][0]\n        print (rt,t)\n        return [t, rt]\n                    \n##########################   API CALL   ###################################\ndef APIcall(t,rt,ts): # function for pulling data \n    count=0\n    threshold = 1    \n    thresholdS = str(threshold)   \n    num_layers = 5\n    inc=1\n    \n    fc = {\n        \"type\": \"FeatureCollection\",\n        \"features\": []\n    }\n   \n              \n    base1 = 'https://api.weather.com/v2/featurizer/feature?product='+prod_num+':'+prod_name\n    base2 = '&t='+t+'&rt='+rt+ '&apiKey='+APIKEY\n    base3= '&geometryType=polygon'\n\n##add layer for lowest threshold and one for highest\n\n    for x in range(0,num_layers):\n        count=count+1\n        base4 = '&operation=greaterThanOrEqual&threshold='+thresholdS\n\n        url = base1 + base2 + base3 + base4  # make API URL   \n        print (url)  \n        data = requests.get(url).json() #Our API Call\n        \n        for y in data['features']:           \n            f = {\"type\": \"Feature\", \"properties\": {}, \"geometry\": None}\n            \n            f['geometry'] = y['geometry']\n            f['properties']['tStormIndex'] = y['properties']['threshold']\n            f['properties']['Date'] = ts\n            fc['features'].append(f)           \n        \n        threshold=threshold+inc\n        thresholdS=str(threshold)                  \n    \n    with open(\"TstormIndex.geojson\", \"w\") as outfile:\n        json.dump(fc, outfile)\n    \n################################################################################\nvalues = InvCall()\nt= values[0]\nrt=values[1]\n\nnow=datetime.datetime.utcnow()\nyear=str(now.year)\nmonth=str('{:02d}'.format(now.month))\nday=str('{:02d}'.format(now.day))\nhour=str('{:02d}'.format(now.hour))\nts=year+\"-\"+month+\"-\"+day+\",\"+hour+\"00\"\n\nAPIcall(t,rt,ts)", 
            "cell_type": "code", 
            "metadata": {}, 
            "outputs": [
                {
                    "output_type": "error", 
                    "evalue": "'NoneType' object is not subscriptable", 
                    "traceback": [
                        "\u001b[0;31m---------------------------------------------------------------------------\u001b[0m", 
                        "\u001b[0;31mTypeError\u001b[0m                                 Traceback (most recent call last)", 
                        "\u001b[0;32m<ipython-input-1-8d79159a8eb4>\u001b[0m in \u001b[0;36m<module>\u001b[0;34m\u001b[0m\n\u001b[1;32m     75\u001b[0m \u001b[0;31m################################################################################\u001b[0m\u001b[0;34m\u001b[0m\u001b[0;34m\u001b[0m\u001b[0;34m\u001b[0m\u001b[0m\n\u001b[1;32m     76\u001b[0m \u001b[0mvalues\u001b[0m \u001b[0;34m=\u001b[0m \u001b[0mInvCall\u001b[0m\u001b[0;34m(\u001b[0m\u001b[0;34m)\u001b[0m\u001b[0;34m\u001b[0m\u001b[0;34m\u001b[0m\u001b[0m\n\u001b[0;32m---> 77\u001b[0;31m \u001b[0mt\u001b[0m\u001b[0;34m=\u001b[0m \u001b[0mvalues\u001b[0m\u001b[0;34m[\u001b[0m\u001b[0;36m0\u001b[0m\u001b[0;34m]\u001b[0m\u001b[0;34m\u001b[0m\u001b[0;34m\u001b[0m\u001b[0m\n\u001b[0m\u001b[1;32m     78\u001b[0m \u001b[0mrt\u001b[0m\u001b[0;34m=\u001b[0m\u001b[0mvalues\u001b[0m\u001b[0;34m[\u001b[0m\u001b[0;36m1\u001b[0m\u001b[0;34m]\u001b[0m\u001b[0;34m\u001b[0m\u001b[0;34m\u001b[0m\u001b[0m\n\u001b[1;32m     79\u001b[0m \u001b[0;34m\u001b[0m\u001b[0m\n", 
                        "\u001b[0;31mTypeError\u001b[0m: 'NoneType' object is not subscriptable"
                    ], 
                    "ename": "TypeError"
                }
            ], 
            "execution_count": 1
        }, 
        {
            "source": "", 
            "cell_type": "code", 
            "metadata": {}, 
            "outputs": [], 
            "execution_count": null
        }
    ], 
    "metadata": {
        "kernelspec": {
            "display_name": "Python 3.6", 
            "name": "python3", 
            "language": "python"
        }, 
        "language_info": {
            "mimetype": "text/x-python", 
            "nbconvert_exporter": "python", 
            "version": "3.6.8", 
            "name": "python", 
            "pygments_lexer": "ipython3", 
            "file_extension": ".py", 
            "codemirror_mode": {
                "version": 3, 
                "name": "ipython"
            }
        }
    }, 
    "nbformat": 4
}