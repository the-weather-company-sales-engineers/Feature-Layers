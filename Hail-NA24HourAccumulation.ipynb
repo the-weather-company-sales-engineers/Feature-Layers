{
    "nbformat_minor": 1, 
    "cells": [
        {
            "source": "######JM Gawrych  11/30/2018 rev 3/11/2019\n#### Gets multiple Hail Vison geojson files from our featurizer catalog and combines them\n#####B Snyder 6/29/2019 Added to Watson Studio\n\nimport requests,json,datetime # need to install these libraries to run\n\n##All TWC visual products have a product name and number\nprod_num=str(335) # Radar Derived 24-Hour HailVision. \nprod_name='MESHMax1440min' # Per TWC naming conventions\nAPIKEY='YOUR_TWC_KEY_HERE'  #Enter your API key \n\n\n########################PRODUCT INVENTORY CALL################################  \ndef InvCall():\n    base1 = 'https://api.weather.com/v2/tiler/info?products='+prod_num+':'+prod_name\n    base2 = '&apiKey='+APIKEY\n    url = base1 + base2 \n    APIcall = requests.get(url) #Our API Call     to grab the latest forecast\n    if APIcall.status_code == 200:  #if(APIcall.ok):\n        data = APIcall.json() \n        for x in range(0,1):\n            for y in range(0,1):\n                timestamp = data[\"layers\"][prod_num][prod_name][\"dimensions\"][x][\"t\"][y]\n            return timestamp\n\n##########################   API CALL   ###################################\ndef APIcall(timestamp,ts): # function for pulling data \n    count=0\n\n    num_layers = 6  #10\n    inc=12.7  \n    fc = {\n        \"type\": \"FeatureCollection\",\n        \"features\": []\n    }\n   \n    low_limit = 12.7   ##Thresholds are in mm, min is 5 mm (0.2\") up to 50 mm (~2\") \n    low_limitS = str(low_limit)\n    high_limit=low_limit+12.7\n    high_limitS = str(high_limit)      \n                 \n    base1 = 'https://api.weather.com/v2/featurizer/feature?product='+prod_num+':'+prod_name\n    base2 = '&t='+timestamp + '&apiKey='+APIKEY+'&geometryType=polygon'\n    \n    for x in range(0,num_layers):\n        \n        count=count+1\n        base3 = '&threshold='+low_limitS\n\n        url = base1 + base2 + base3  # make API URL   \n        print (url)\n        data = requests.get(url).json() #Our API Call\n        \n        for y in data['features']:           \n            f = {\"type\": \"Feature\", \"properties\": {}, \"geometry\": None}\n            \n            f['geometry'] = y['geometry']\n            #convert to inches\n            HailSizeIn= round(float(y['properties']['threshold'])*0.0394,1)\n            f['properties']['HailSize'] = HailSizeIn  # y['properties']['threshold']\n            f['properties']['Date'] = ts\n            fc['features'].append(f)           \n        \n          \n        low_limit=low_limit+inc\n        low_limitS=str(low_limit)                  \n        high_limit=high_limit+inc\n        high_limitS=str(high_limit) \n    \n    with open(\"HailVision_\"+ts+\".geojson\", \"w\") as outfile:\n        json.dump(fc, outfile)            \n    with open(\"HailVision.geojson\", \"w\") as outfile:\n        json.dump(fc, outfile)       \n\n################################################################################\ntimestamp = InvCall()  ## Grab time stamp\n\nnow=datetime.datetime.utcnow()\nyear=str(now.year)\nmonth=str('{:02d}'.format(now.month))\nday=str('{:02d}'.format(now.day))\nhour=str('{:02d}'.format(now.hour))\nts=year+month+day+hour+'00'\n\nAPIcall(timestamp,ts)", 
            "cell_type": "code", 
            "execution_count": null, 
            "outputs": [], 
            "metadata": {
                "collapsed": true
            }
        }
    ], 
    "nbformat": 4, 
    "metadata": {
        "kernelspec": {
            "display_name": "Python 3.6", 
            "name": "python3", 
            "language": "python"
        }, 
        "language_info": {
            "mimetype": "text/x-python", 
            "nbconvert_exporter": "python", 
            "version": "3.6.8", 
            "name": "python", 
            "pygments_lexer": "ipython3", 
            "file_extension": ".py", 
            "codemirror_mode": {
                "version": 3, 
                "name": "ipython"
            }
        }
    }
}